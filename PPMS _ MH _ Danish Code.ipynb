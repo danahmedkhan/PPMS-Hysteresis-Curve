{
 "cells": [
  {
   "cell_type": "code",
   "execution_count": null,
   "id": "ccc4ceec",
   "metadata": {},
   "outputs": [],
   "source": [
    "## importing python modules needed\n",
    "from scipy import interpolate\n",
    "import numpy as np\n",
    "import pandas as pd\n",
    "import os as os\n",
    "import csv\n",
    "import matplotlib.pyplot as plt\n",
    "from matplotlib.backends.backend_pdf import PdfPages\n",
    "%matplotlib inline\n",
    "import numpy.ma as ma"
   ]
  },
  {
   "cell_type": "code",
   "execution_count": null,
   "id": "2a45be86",
   "metadata": {},
   "outputs": [],
   "source": [
    "os.chdir(r'C:\\Users\\Dell\\Box\\Arena_Lab_Data\\Danish\\PMA_Multilayer_Project\\09202022 ML Measurements Co_Pt_Cu')\n",
    "cwd = os.getcwd()\n",
    "print (cwd)"
   ]
  },
  {
   "cell_type": "code",
   "execution_count": null,
   "id": "b99c7be1",
   "metadata": {},
   "outputs": [],
   "source": [
    "print (os.listdir(cwd))"
   ]
  },
  {
   "cell_type": "code",
   "execution_count": null,
   "id": "7c6f6434",
   "metadata": {},
   "outputs": [],
   "source": [
    "files='08152022_TA1_PT1.8X2_CO1.2X2_CU2_GLASS_OOP_00001.DAT'\n",
    "\n",
    "PPMS_data = pd.read_csv(files, delimiter = ',', skiprows = 30)"
   ]
  },
  {
   "cell_type": "code",
   "execution_count": null,
   "id": "9e6c99b7",
   "metadata": {},
   "outputs": [],
   "source": [
    "x= PPMS_data[\"Magnetic Field (Oe)\"]\n",
    "y= PPMS_data['Moment (emu)']"
   ]
  },
  {
   "cell_type": "code",
   "execution_count": null,
   "id": "5297c60e",
   "metadata": {},
   "outputs": [],
   "source": [
    "xmax=int(PPMS_data[\"Magnetic Field (Oe)\"].max())#MOKE data would be min field since start with neg \n",
    "print (xmax)\n",
    "\n",
    "\n",
    "xlast=int(PPMS_data[\"Magnetic Field (Oe)\"].iloc[-1])\n",
    "print  (xlast)\n",
    "\n",
    "xtol=np.arange(xmax*.95,xmax*1.05)\n",
    "\n",
    "if xlast not in xtol:\n",
    "    print (\"NO GOOD YO\")\n",
    "    pass\n",
    "else:\n",
    "    print (xlast)"
   ]
  },
  {
   "cell_type": "code",
   "execution_count": null,
   "id": "a9b1c9ec",
   "metadata": {},
   "outputs": [],
   "source": [
    "#plt.title(file_title + \" MH\")\n",
    "plt.plot(x, y)\n",
    "plt.grid()\n",
    "plt.xlabel(\"Field (Oe)\")\n",
    "plt.ylabel(\"Moment (emu)\")\n",
    "#pdf.savefig(bbox_inches = \"tight\")"
   ]
  },
  {
   "cell_type": "code",
   "execution_count": null,
   "id": "820115fa",
   "metadata": {},
   "outputs": [],
   "source": [
    "PPMS_data.idxmax"
   ]
  },
  {
   "cell_type": "code",
   "execution_count": null,
   "id": "82243860",
   "metadata": {},
   "outputs": [],
   "source": [
    "#Hysteresis starts at 0 oe, goes to 5T, swings down to -5T and back to 5T. We don't care about the first 0-5T so we\n",
    "#want to drop it from the array. There are 3 times it hits 5T; 0-5T, 5T- -5T, -5T - 5T. We will find those three \n",
    "#index locations and the smallest one will find the smallest index and that will correspond to the 0-5T run. \n",
    "max_locs = PPMS_data[\"Magnetic Field (Oe)\"].sort_values(ascending=False)[0:1].index.tolist()\n",
    "PPMS_data_red = PPMS_data[np.min(max_locs)+1:] #Keep only values after the 0-5T run\n",
    "\n",
    "PPMS_data_red = PPMS_data_red.reset_index(drop = True)\n",
    "\n",
    "len_red = np.int(len(PPMS_data_red)/2) #We want to fit the +/- 5T region so this corresponds to half the full loop.\n",
    "\n",
    "x_axis = PPMS_data_red[\"Magnetic Field (Oe)\"]\n",
    "x_labs = \"Magnetic Field (Oe)\"\n",
    "\n",
    "plt.show()\n",
    "\n",
    "plt.plot(x_axis, PPMS_data_red[\"Moment (emu)\"])\n",
    "plt.xlabel(x_labs)\n",
    "plt.ylabel(\"Moment (emu)\")\n",
    "plt.grid()"
   ]
  },
  {
   "cell_type": "code",
   "execution_count": null,
   "id": "b1efe715",
   "metadata": {},
   "outputs": [],
   "source": [
    "#Now, we want to, again, background correct the edges of the diamagnetic corrected graph.\n",
    "#Diamagnetic correction\n",
    "mask_set = np.zeros(x_axis.shape)#Setup masking array same shape as array to be masked or similiar\n",
    "mask_set[:(len_red)] = 1 #NP masked works by using 1 to mean mask this value so we add ones everywhere to \n",
    "mask_set[(len_red+50):] = 1\n",
    "#our zero array where we want to mask.\n",
    "fit_region = ma.masked_array(PPMS_data_red[\"Moment (emu)\"], mask_set) #Apply masking portion\n",
    "#Linear fit of pre and post-edge.\n",
    "coeffs = np.ma.polyfit(x_axis, fit_region, 1) #Now that the middle region is masked, fit the linear endpoints.\n",
    "dia_line1 = np.poly1d(coeffs) #Turn coefficients into a fit equation\n",
    "coe1=coeffs[0]\n",
    "print (coe1)\n",
    "dia_corr1 = PPMS_data_red[\"Moment (emu)\"] - coe1*x_axis\n",
    "print (coeffs)\n",
    "plt.plot(x_axis, dia_corr1)\n",
    "plt.xlabel(x_labs)\n",
    "plt.ylabel(\"Moment (emu)\")\n",
    "plt.grid()"
   ]
  },
  {
   "cell_type": "code",
   "execution_count": null,
   "id": "14d070a9",
   "metadata": {},
   "outputs": [],
   "source": [
    "center_dia_corr1 = np.mean(dia_corr1)\n",
    "print (center_dia_corr1)"
   ]
  },
  {
   "cell_type": "code",
   "execution_count": null,
   "id": "d7d67163",
   "metadata": {},
   "outputs": [],
   "source": [
    "#shifting down w.r.t. zero along vertical axis\n",
    "\n",
    "new_dia_corr1=dia_corr1-center_dia_corr1\n",
    "plt.plot(x_axis, new_dia_corr1)\n",
    "plt.xlabel(x_labs)\n",
    "plt.ylabel(\"Moment (emu)\")\n",
    "plt.grid()"
   ]
  },
  {
   "cell_type": "code",
   "execution_count": null,
   "id": "8696b214",
   "metadata": {},
   "outputs": [],
   "source": [
    "pMs = MH_bck_corr[:int(half_loop*0.05)].mean() #Average first 5% of points.\n",
    "nMs = MH_bck_corr[half_loop: (half_loop + int(half_loop*0.05)):].mean() #Average 5% of points at other endpoint.\n",
    "Ms_center = np.mean([pMs, nMs])\n",
    "ax[1,1].set_title(\"Finding vertical center\")\n",
    "ax[1,1].plot(x_axis, MH_bck_corr,label = 'MH')\n",
    "ax[1,1].hlines(pMs, x_axis[0],x_axis[half_loop], colors = 'seagreen', linestyles = 'dashed', label = \"+Ms\")\n",
    "ax[1,1].hlines(nMs, x_axis[0],x_axis[half_loop], colors = 'coral', linestyles = 'dashed', label = \"-Ms\")\n",
    "ax[1,1].hlines(Ms_center, x_axis[0], x_axis[half_loop], colors = 'blueviolet', linestyles = 'dashed', label = \"Hori. Center\")\n",
    "ax[1,1].grid()\n",
    "ax[1,1].set_xlabel(\"Voltage (V)\")\n",
    "ax[1,1].set_ylabel(\"MOKE Signal\")\n",
    "ax[1,1].legend()\n",
    "MH_vcent = MH_bck_corr - Ms_center #Center data vertically about moment = 0 emu\n",
    "MH_vcent_max= np.max(MH_vcent)\n",
    "    \n",
    "MH_vcent_min=np.min(MH_vcent)\n",
    "MH_vcent_avg= (MH_vcent_max-MH_vcent_min)/2\n",
    "    #print (MH_vcent_max,MH_vcent_min,MH_vcent_avg)\n",
    "    \n",
    "fig2, ax2 = plt.subplots(1,2, figsize = (16,6))\n",
    "ax2[0].set_title(\"vertically centered around y = 0\")\n",
    "ax2[0].plot(x_axis, MH_vcent)\n",
    "ax2[0].hlines(0, x_axis[0], x_axis[half_loop],  colors = 'black', linestyles = 'dashed')\n",
    "ax2[0].grid()\n",
    "ax2[0].set_xlabel(\"Voltage (V)\")\n",
    "ax2[0].set_ylabel(\"MOKE Signal\")\n",
    "data = np.array([x_axis, MH_vcent])\n",
    "data = data.T\n",
    "PPMS_data_blue=pd.DataFrame(data, columns=['Voltage (V)', 'MOKE Signal'])\n",
    "\n",
    "MHpn=PPMS_data_blue[:half_loop] # the first half +to-\n",
    "MHpn = MHpn.reset_index(drop = True)\n",
    "MHpn_inter=interp1d(y=MHpn['MOKE Signal'],x=MHpn['Voltage (V)'], kind='linear')\n",
    "    \n",
    "MHnp=PPMS_data_blue[half_loop:] # the second half -to+\n",
    "MHnp = MHnp.reset_index(drop = True)\n",
    "MHnp_inter=interp1d(y=MHnp['MOKE Signal'], x=MHnp['Voltage (V)'], kind='linear')\n",
    "int_ax = np.linspace(-1.7, 1.7, 2000)\n",
    "H_c_ind = np.absolute(MHnp_inter(int_ax)).argmin()\n",
    "zeropoint=int_ax[H_c_ind]\n",
    "    # zeropoint=MHnp_inter(0)\n",
    "print ('zeropoint: ', zeropoint)\n",
    "    \n",
    "H_c_ind = np.absolute(MHpn_inter(int_ax)).argmin()\n",
    "zeropoint2=int_ax[H_c_ind]\n",
    "    # zeropoint=MHpn_inter(0)\n",
    "print('zeropoint2: ', zeropoint2)\n",
    "    \n",
    "\n",
    "Deltazero=(zeropoint-zeropoint2)\n",
    "print (Deltazero)\n",
    "Coersive=abs(Deltazero)/2\n",
    "print ('Coercive field: ', Coersive)\n",
    "\n",
    "ax2[1].set_title(\"Finding Horizontal center\")\n",
    "ax2[1].plot(x_axis, MH_vcent)\n",
    "ax2[1].vlines(zeropoint, MH_vcent[0],MH_vcent[half_loop], colors = 'green', linestyles = 'dashed', label = \"+C\")\n",
    "ax2[1].vlines(zeropoint2, MH_vcent[0],MH_vcent[half_loop],colors = 'coral', linestyles = 'dashed', label = \"-C\")\n",
    "ax2[1].vlines((zeropoint-Coersive), MH_vcent[0], MH_vcent[half_loop], colors = 'blueviolet', linestyles = 'dashed', label = \"Hori. Center\")\n",
    "ax2[1].set_xlabel(\"Voltage (V)\")\n",
    "ax2[1].set_ylabel(\"MOKE Signal\")\n",
    "ax2[1].grid()       \n",
    "\n",
    "MH_hcent=x_axis-(zeropoint-Coersive)\n",
    "\n",
    "\n",
    "fig3, ax3 = plt.subplots(1,2, figsize = (18,6))\n",
    "ax3[0].set_title(\"Horizontally centered around x = 0\")\n",
    "ax3[0].plot(MH_hcent, MH_vcent)\n",
    "ax3[0].vlines(0, MH_vcent[0], MH_vcent[half_loop], colors = 'black', linestyles = 'dashed')\n",
    "ax3[0].set_xlabel(\"Voltage (V)\")\n",
    "ax3[0].set_ylabel(\"MOKE Signal\")\n",
    "ax3[0].grid()\n",
    "ax3[0].set_xlabel(\"Voltage (V)\")\n",
    "#pdf.savefig(bbox_inches = \"tight\")"
   ]
  },
  {
   "cell_type": "code",
   "execution_count": null,
   "id": "e3cfdf38",
   "metadata": {},
   "outputs": [],
   "source": []
  },
  {
   "cell_type": "code",
   "execution_count": null,
   "id": "9940dedf",
   "metadata": {},
   "outputs": [],
   "source": [
    "MAX=PPMS_data_red.loc[PPMS_data_red['Magnetic Field (Oe)'].idxmax()]\n",
    "print (MAX)"
   ]
  },
  {
   "cell_type": "code",
   "execution_count": null,
   "id": "1f3b65b5",
   "metadata": {},
   "outputs": [],
   "source": [
    "Saturation= MAX['Moment (emu)']\n",
    "print (Saturation)"
   ]
  },
  {
   "cell_type": "code",
   "execution_count": null,
   "id": "6a749b73",
   "metadata": {},
   "outputs": [],
   "source": [
    "MIN=PPMS_data_red.loc[PPMS_data_red['Magnetic Field (Oe)'].idxmin()]\n",
    "SAT=MIN['Moment (emu)']\n",
    "print (SAT)"
   ]
  },
  {
   "cell_type": "code",
   "execution_count": null,
   "id": "de131295",
   "metadata": {},
   "outputs": [],
   "source": [
    "MS=(abs(Saturation -SAT))/2\n",
    "print (MS)"
   ]
  },
  {
   "cell_type": "code",
   "execution_count": null,
   "id": "d81111b1",
   "metadata": {},
   "outputs": [],
   "source": [
    "from scipy.interpolate import interp1d"
   ]
  },
  {
   "cell_type": "code",
   "execution_count": null,
   "id": "ca75d265",
   "metadata": {},
   "outputs": [],
   "source": [
    "##############Fromt MOKE Code\n",
    "###field_to_vol_inter = interp1d(Calib[\"Magnetic Field (kG)\"], Calib[\"Voltage (V)\"])####\n",
    "\n",
    "#first need to cut the PPMS len red into 2\n",
    "#PPMS_data_red = PPMS_data[np.min(max_locs)+1:]\n",
    "MHpm=PPMS_data_red[0:len_red]\n",
    "MHpm = MHpm.reset_index(drop = True)\n",
    "\n",
    "MHpm_inter=interp1d(MHpm['Moment (emu)'],MHpm['Magnetic Field (Oe)'])"
   ]
  },
  {
   "cell_type": "code",
   "execution_count": null,
   "id": "c099aca1",
   "metadata": {},
   "outputs": [],
   "source": [
    "MHmp=PPMS_data_red[len_red:]\n",
    "MHmp = MHmp.reset_index(drop = True)\n",
    "\n",
    "MHmp_inter=interp1d(MHmp['Moment (emu)'],MHmp['Magnetic Field (Oe)'])"
   ]
  },
  {
   "cell_type": "code",
   "execution_count": null,
   "id": "e6fce3ca",
   "metadata": {},
   "outputs": [],
   "source": [
    "zeropoint=MHmp_inter(0)\n",
    "print (zeropoint)"
   ]
  },
  {
   "cell_type": "code",
   "execution_count": null,
   "id": "6b916177",
   "metadata": {},
   "outputs": [],
   "source": [
    "zeropoint2=MHpm_inter(0)\n",
    "print (zeropoint2)"
   ]
  },
  {
   "cell_type": "code",
   "execution_count": null,
   "id": "d3d8d42f",
   "metadata": {},
   "outputs": [],
   "source": [
    "Coersive=(abs(zeropoint-zeropoint2))/2\n",
    "print (Coersive)"
   ]
  },
  {
   "cell_type": "code",
   "execution_count": null,
   "id": "6a892fd8",
   "metadata": {},
   "outputs": [],
   "source": [
    "MR_inter=interp1d(MHpm['Magnetic Field (Oe)'],MHpm['Moment (emu)'])"
   ]
  },
  {
   "cell_type": "code",
   "execution_count": null,
   "id": "ab26a4c6",
   "metadata": {},
   "outputs": [],
   "source": [
    "MR_value=MR_inter(0)\n",
    "print (MR_value)"
   ]
  },
  {
   "cell_type": "code",
   "execution_count": null,
   "id": "034b9941",
   "metadata": {},
   "outputs": [],
   "source": [
    "MR_ratio=MR_value/MS\n",
    "print (MR_ratio)"
   ]
  },
  {
   "cell_type": "code",
   "execution_count": null,
   "id": "864ca0be",
   "metadata": {},
   "outputs": [],
   "source": []
  }
 ],
 "metadata": {
  "kernelspec": {
   "display_name": "Python 3 (ipykernel)",
   "language": "python",
   "name": "python3"
  },
  "language_info": {
   "codemirror_mode": {
    "name": "ipython",
    "version": 3
   },
   "file_extension": ".py",
   "mimetype": "text/x-python",
   "name": "python",
   "nbconvert_exporter": "python",
   "pygments_lexer": "ipython3",
   "version": "3.9.7"
  },
  "latex_envs": {
   "LaTeX_envs_menu_present": true,
   "autoclose": false,
   "autocomplete": true,
   "bibliofile": "biblio.bib",
   "cite_by": "apalike",
   "current_citInitial": 1,
   "eqLabelWithNumbers": true,
   "eqNumInitial": 1,
   "hotkeys": {
    "equation": "Ctrl-E",
    "itemize": "Ctrl-I"
   },
   "labels_anchors": false,
   "latex_user_defs": false,
   "report_style_numbering": false,
   "user_envs_cfg": false
  },
  "toc": {
   "base_numbering": 1,
   "nav_menu": {},
   "number_sections": true,
   "sideBar": true,
   "skip_h1_title": false,
   "title_cell": "Table of Contents",
   "title_sidebar": "Contents",
   "toc_cell": false,
   "toc_position": {},
   "toc_section_display": true,
   "toc_window_display": false
  }
 },
 "nbformat": 4,
 "nbformat_minor": 5
}
